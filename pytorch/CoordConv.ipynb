{
 "cells": [
  {
   "cell_type": "code",
   "execution_count": 1,
   "metadata": {},
   "outputs": [],
   "source": [
    "import torch\n",
    "import torch.nn as nn\n",
    "import numpy as np"
   ]
  },
  {
   "cell_type": "code",
   "execution_count": 2,
   "metadata": {},
   "outputs": [
    {
     "name": "stdout",
     "output_type": "stream",
     "text": [
      "torch.Size([8, 64, 64, 1])\n",
      "torch.Size([8, 64, 64, 1])\n"
     ]
    }
   ],
   "source": [
    "x_dim = 64\n",
    "y_dim = 64\n",
    "batch_size_tensor = 8\n",
    "input_tensor = torch.ones([8, 64, 64, 3])\n",
    "xx_ones = torch.ones([batch_size_tensor, x_dim],\n",
    "                 dtype=torch.int32)\n",
    "xx_ones = torch.unsqueeze(xx_ones, dim=-1)\n",
    "xx_range = torch.unsqueeze(torch.arange(x_dim, dtype=torch.int32), dim=0).repeat(batch_size_tensor, 1)\n",
    "xx_range = torch.unsqueeze(xx_range, 1)\n",
    "\n",
    "xx_channel = torch.matmul(xx_ones, xx_range)\n",
    "xx_channel = torch.unsqueeze(xx_channel, -1)\n",
    "\n",
    "yy_ones = torch.ones([batch_size_tensor, y_dim],\n",
    "                 dtype=torch.int32)\n",
    "yy_ones = torch.unsqueeze(yy_ones, 1)\n",
    "yy_range = torch.unsqueeze(torch.arange(y_dim, dtype=torch.int32), dim=0).repeat(batch_size_tensor, 1)\n",
    "yy_range = torch.unsqueeze(yy_range, -1)\n",
    "\n",
    "yy_channel = torch.matmul(yy_range, yy_ones)\n",
    "yy_channel = torch.unsqueeze(yy_channel, -1)\n",
    "\n",
    "xx_channel = xx_channel.float() / (x_dim - 1)\n",
    "yy_channel = yy_channel.float() / (y_dim - 1)\n",
    "xx_channel = xx_channel * 2 - 1\n",
    "yy_channel = yy_channel * 2 - 1\n",
    "\n",
    "print(xx_channel.shape)\n",
    "print(yy_channel.shape)\n",
    "\n",
    "ret = torch.cat((input_tensor,\n",
    "                xx_channel,\n",
    "                yy_channel), dim=-1)"
   ]
  },
  {
   "cell_type": "code",
   "execution_count": 8,
   "metadata": {},
   "outputs": [],
   "source": [
    "class AddCoords(torch.nn.Module):\n",
    "    \"\"\"Add coords to a tensor\"\"\"\n",
    "    def __init__(self, x_dim=64, y_dim=64, with_r=False):\n",
    "        super(AddCoords, self).__init__()\n",
    "        self.x_dim = x_dim\n",
    "        self.y_dim = y_dim\n",
    "        self.with_r = with_r\n",
    "    \n",
    "    def forward(self, input_tensor):\n",
    "        \"\"\"\n",
    "        input_tensor: (batch, c, x_dim, y_dim)\n",
    "        \"\"\"\n",
    "        input_tensor = input_tensor.permute(0, 2, 3, 1)\n",
    "        batch_size_tensor = input_tensor.shape[0]\n",
    "        xx_ones = torch.ones([batch_size_tensor, self.x_dim],\n",
    "                         dtype=torch.int32)\n",
    "        xx_ones = torch.unsqueeze(xx_ones, -1)\n",
    "        xx_range = torch.unsqueeze(torch.arange(self.x_dim, dtype=torch.int32), dim=0).repeat(batch_size_tensor, 1)\n",
    "        xx_range = torch.unsqueeze(xx_range, 1)\n",
    "        \n",
    "        xx_channel = torch.matmul(xx_ones, xx_range)\n",
    "        xx_channel = torch.unsqueeze(xx_channel, -1)\n",
    "        \n",
    "        yy_ones = torch.ones([batch_size_tensor, self.y_dim],\n",
    "                         dtype=torch.int32)\n",
    "        yy_ones = torch.unsqueeze(yy_ones, 1)\n",
    "        yy_range = torch.unsqueeze(torch.arange(self.y_dim, dtype=torch.int32), dim=0).repeat(batch_size_tensor, 1)\n",
    "        yy_range = torch.unsqueeze(yy_range, -1)\n",
    "        \n",
    "        yy_channel = torch.matmul(yy_range, yy_ones)\n",
    "        yy_channel = torch.unsqueeze(yy_channel, -1)\n",
    "        \n",
    "        xx_channel = xx_channel.float() / (self.x_dim - 1)\n",
    "        yy_channel = yy_channel.float() / (self.y_dim - 1)\n",
    "        xx_channel = xx_channel * 2 - 1\n",
    "        yy_channel = yy_channel * 2 - 1\n",
    "        \n",
    "        ret = torch.cat((input_tensor,\n",
    "                        xx_channel,\n",
    "                        yy_channel), dim=-1)\n",
    "        \n",
    "        if self.with_r:\n",
    "            rr = torch.sqrt(torch.mul(xx_channel - 0.5, xx_channel - 0.5)\n",
    "                           + torch.mul(yy_channel - 0.5, yy_channel - 0.5))\n",
    "            ret = torch.cat((ret, rr), dim=-1)\n",
    "        \n",
    "        ret = ret.permute(0, 3, 1, 2)\n",
    "        return ret\n",
    "\n",
    "    \n",
    "class CoordConv(torch.nn.Module):\n",
    "    \"\"\"CoordConv layer as in the paper.\"\"\"\n",
    "    def __init__(self, x_dim, y_dim, with_r, in_channels, out_channels, kernel_size, *args, **kwargs):\n",
    "        super(CoordConv, self).__init__()\n",
    "        self.addcoords = AddCoords(x_dim=x_dim,\n",
    "                                  y_dim=y_dim,\n",
    "                                  with_r=with_r)\n",
    "        self.conv = nn.Conv2d(in_channels+2+with_r, out_channels, kernel_size, *args, **kwargs)\n",
    "        \n",
    "    def forward(self, input_tensor):\n",
    "        ret = self.addcoords(input_tensor)\n",
    "        ret = self.conv(ret)\n",
    "        return ret\n"
   ]
  },
  {
   "cell_type": "code",
   "execution_count": null,
   "metadata": {},
   "outputs": [],
   "source": []
  }
 ],
 "metadata": {
  "kernelspec": {
   "display_name": "Python 3",
   "language": "python",
   "name": "python3"
  },
  "language_info": {
   "codemirror_mode": {
    "name": "ipython",
    "version": 3
   },
   "file_extension": ".py",
   "mimetype": "text/x-python",
   "name": "python",
   "nbconvert_exporter": "python",
   "pygments_lexer": "ipython3",
   "version": "3.6.5"
  }
 },
 "nbformat": 4,
 "nbformat_minor": 2
}
