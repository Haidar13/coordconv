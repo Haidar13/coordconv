{
 "cells": [
  {
   "cell_type": "code",
   "execution_count": 1,
   "metadata": {},
   "outputs": [],
   "source": [
    "from tensorflow.python.layers import base\n",
    "import tensorflow as tf"
   ]
  },
  {
   "cell_type": "code",
   "execution_count": 2,
   "metadata": {},
   "outputs": [],
   "source": [
    "if 0:\n",
    "    config = tf.ConfigProto()\n",
    "    config.gpu_options.allow_growth = True\n",
    "    sess = tf.Session(config=config)"
   ]
  },
  {
   "cell_type": "code",
   "execution_count": 3,
   "metadata": {},
   "outputs": [
    {
     "ename": "IndentationError",
     "evalue": "unexpected indent (<ipython-input-3-fdbd40aff3cd>, line 38)",
     "output_type": "error",
     "traceback": [
      "\u001b[0;36m  File \u001b[0;32m\"<ipython-input-3-fdbd40aff3cd>\"\u001b[0;36m, line \u001b[0;32m38\u001b[0m\n\u001b[0;31m    rr = tf.sqrt(tf.square(xx_channel - 0.5)\u001b[0m\n\u001b[0m    ^\u001b[0m\n\u001b[0;31mIndentationError\u001b[0m\u001b[0;31m:\u001b[0m unexpected indent\n"
     ]
    }
   ],
   "source": [
    "if 0:\n",
    "    x_dim = 64\n",
    "    y_dim = 64\n",
    "    batch_size_tensor = 8\n",
    "    xx_ones = tf.ones([batch_size_tensor, x_dim],\n",
    "                     dtype=tf.int32)\n",
    "    xx_ones = tf.expand_dims(xx_ones, -1)\n",
    "    xx_range = tf.tile(tf.expand_dims(tf.range(x_dim), 0),\n",
    "                      [batch_size_tensor, 1])\n",
    "    xx_range = tf.expand_dims(xx_range, 1)\n",
    "    xx_channel = tf.matmul(xx_ones, xx_range)\n",
    "    print(xx_ones, xx_range)\n",
    "    print(xx_channel)\n",
    "    print(sess.run(xx_channel))\n",
    "    xx_channel = tf.expand_dims(xx_channel, -1)\n",
    "\n",
    "    yy_ones = tf.ones([batch_size_tensor, y_dim],\n",
    "                     dtype=tf.int32)\n",
    "    yy_ones = tf.expand_dims(yy_ones, 1)\n",
    "    yy_range = tf.tile(tf.expand_dims(tf.range(y_dim), 0),\n",
    "                      [batch_size_tensor, 1])\n",
    "    yy_range = tf.expand_dims(yy_range, -1)\n",
    "    yy_channel = tf.matmul(yy_range, yy_ones)\n",
    "    print(yy_ones, yy_range)\n",
    "    print(yy_channel)\n",
    "    print(sess.run(yy_channel))\n",
    "    yy_channel = tf.expand_dims(yy_channel, -1)\n",
    "\n",
    "    xx_channel = tf.cast(xx_channel, 'float32') / (x_dim - 1)\n",
    "    yy_channel = tf.cast(yy_channel, 'float32') / (y_dim - 1)\n",
    "    xx_channel = xx_channel * 2 - 1\n",
    "    yy_channel = yy_channel * 2 - 1\n",
    "\n",
    "    print(sess.run(xx_channel))\n",
    "    print(sess.run(yy_channel))\n",
    "    print(xx_channel, yy_channel)\n",
    "\n",
    "                rr = tf.sqrt(tf.square(xx_channel - 0.5)\n",
    "                            + tf.square(yy_channel - 0.5))"
   ]
  },
  {
   "cell_type": "code",
   "execution_count": 4,
   "metadata": {},
   "outputs": [],
   "source": [
    "class AddCoords(base.Layer):\n",
    "    \"\"\"Add coords to a tensor\"\"\"\n",
    "    def __init__(self, x_dim=64, y_dim=64, with_r=False):\n",
    "        super(AddCoords, self).__init__()\n",
    "        self.x_dim = x_dim\n",
    "        self.y_dim = y_dim\n",
    "        self.with_r = with_r\n",
    "    \n",
    "    def call(self, input_tensor):\n",
    "        \"\"\"\n",
    "        input_tensor: (batch, x_dim, y_dim, c)\n",
    "        \"\"\"\n",
    "        batch_size_tensor = tf.shape(input_tensor)[0]\n",
    "        xx_ones = tf.ones([batch_size_tensor, self.x_dim],\n",
    "                         dtype=tf.int32)\n",
    "        xx_ones = tf.expand_dims(xx_ones, -1)\n",
    "        xx_range = tf.tile(tf.expand_dims(tf.range(self.x_dim), 0),\n",
    "                          [batch_size_tensor, 1])\n",
    "        xx_range = tf.expand_dims(xx_range, 1)\n",
    "        \n",
    "        xx_channel = tf.matmul(xx_ones, xx_range)\n",
    "        xx_channel = tf.expand_dims(xx_channel, -1)\n",
    "        \n",
    "        yy_ones = tf.ones([batch_size_tensor, self.y_dim],\n",
    "                         dtype=tf.int32)\n",
    "        yy_ones = tf.expand_dims(yy_ones, 1)\n",
    "        yy_range = tf.tile(tf.expand_dims(tf.range(self.y_dim), 0),\n",
    "                          [batch_size_tensor, 1])\n",
    "        yy_range = tf.expand_dims(yy_range, -1)\n",
    "        \n",
    "        yy_channel = tf.matmul(yy_range, yy_ones)\n",
    "        yy_channel = tf.expand_dims(yy_channel, -1)\n",
    "        \n",
    "        xx_channel = tf.cast(xx_channel, 'float32') / (self.x_dim - 1)\n",
    "        yy_channel = tf.cast(yy_channel, 'float32') / (self.y_dim - 1)\n",
    "        xx_channel = xx_channel * 2 - 1\n",
    "        yy_channel = yy_channel * 2 - 1\n",
    "        \n",
    "        ret = tf.concat([input_tensor,\n",
    "                        xx_channel,\n",
    "                        yy_channel], axis=-1)\n",
    "        \n",
    "        if self.with_r:\n",
    "            rr = tf.sqrt(tf.square(xx_channel - 0.5)\n",
    "                        + tf.square(yy_channel - 0.5))\n",
    "            ret = tf.concat([ret, rr], axis=-1)\n",
    "            \n",
    "        return ret\n",
    "    \n",
    "\n",
    "class CoordConv(base.Layer):\n",
    "    \"\"\"CoordConv layer as in the paper.\"\"\"\n",
    "    def __init__(self, x_dim, y_dim, with_r, *args, **kwargs):\n",
    "        super(CoordConv, self).__init__()\n",
    "        self.addcoords = AddCoords(x_dim=x_dim,\n",
    "                                  y_dim=y_dim,\n",
    "                                  with_r=with_r)\n",
    "        self.conv = tf.layers.Conv2D(*args, **kwargs)\n",
    "        \n",
    "    def call(self, input_tensor):\n",
    "        ret = self.addcoords(input_tensor)\n",
    "        ret = self.conv(ret)\n",
    "        return ret\n"
   ]
  },
  {
   "cell_type": "code",
   "execution_count": null,
   "metadata": {},
   "outputs": [],
   "source": []
  }
 ],
 "metadata": {
  "kernelspec": {
   "display_name": "Python 3",
   "language": "python",
   "name": "python3"
  },
  "language_info": {
   "codemirror_mode": {
    "name": "ipython",
    "version": 3
   },
   "file_extension": ".py",
   "mimetype": "text/x-python",
   "name": "python",
   "nbconvert_exporter": "python",
   "pygments_lexer": "ipython3",
   "version": "3.5.2"
  }
 },
 "nbformat": 4,
 "nbformat_minor": 2
}
